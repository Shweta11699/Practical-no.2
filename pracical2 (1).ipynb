{
  "nbformat": 4,
  "nbformat_minor": 0,
  "metadata": {
    "colab": {
      "name": "pracical2.ipynb",
      "provenance": []
    },
    "kernelspec": {
      "name": "python3",
      "display_name": "Python 3"
    },
    "language_info": {
      "name": "python"
    }
  },
  "cells": [
    {
      "cell_type": "markdown",
      "source": [
        "different data type in python"
      ],
      "metadata": {
        "id": "6pAw5cMn4tkZ"
      }
    },
    {
      "cell_type": "code",
      "source": [
        "x = 20     #int\n",
        "print(x)\n",
        "print(type(x))\n",
        "x = 20.5 #float\n",
        "print(x)\n",
        "print(type(x))\n",
        "x = 1j        #complex\n",
        "print(x)\n",
        "print(type(x))"
      ],
      "metadata": {
        "colab": {
          "base_uri": "https://localhost:8080/"
        },
        "id": "mISA_V_44wiC",
        "outputId": "7bdc3e7b-0eb1-48b7-9da0-9b4c3bad013c"
      },
      "execution_count": 1,
      "outputs": [
        {
          "output_type": "stream",
          "name": "stdout",
          "text": [
            "20\n",
            "<class 'int'>\n",
            "20.5\n",
            "<class 'float'>\n",
            "1j\n",
            "<class 'complex'>\n"
          ]
        }
      ]
    }
  ]
}